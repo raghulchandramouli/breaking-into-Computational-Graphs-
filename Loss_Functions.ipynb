{
  "nbformat": 4,
  "nbformat_minor": 0,
  "metadata": {
    "colab": {
      "provenance": [],
      "authorship_tag": "ABX9TyOG3LRnVyw9p2ZPFnDWxdJo",
      "include_colab_link": true
    },
    "kernelspec": {
      "name": "python3",
      "display_name": "Python 3"
    },
    "language_info": {
      "name": "python"
    }
  },
  "cells": [
    {
      "cell_type": "markdown",
      "metadata": {
        "id": "view-in-github",
        "colab_type": "text"
      },
      "source": [
        "<a href=\"https://colab.research.google.com/github/raghulchandramouli/breaking-into-Computational-Graphs-/blob/main/Loss_Functions.ipynb\" target=\"_parent\"><img src=\"https://colab.research.google.com/assets/colab-badge.svg\" alt=\"Open In Colab\"/></a>"
      ]
    },
    {
      "cell_type": "markdown",
      "source": [
        "# Loss Functions:\n",
        "\n",
        "A `loss function` is a crucial component in machine learning that quantifies the difference between the predicted outputs of a model and the actual target values. It serves as a guide for the learning process, helping to adjust the model's parameters to minimize errors and improve performance.\n",
        "\n",
        "**Key Principles**\n",
        "\n",
        "*   `Performance Benefits :` Loss functions provide a clear metric to evaluate a model's performance by quantifying the difference between predictions and actual results.\n",
        "*   `Direction for improvement :` They guide model improvement by directing the algorithm to adjust parameters iteratively to reduce loss and improve predictions.\n",
        "*   `Balancing Bias and Variance :` Effective loss functions help balance model bias (oversimplification) and variance (overfitting), essential for the model's generalization to new data.\n",
        "\n"
      ],
      "metadata": {
        "id": "n-d1Zfd24HK5"
      }
    },
    {
      "cell_type": "code",
      "source": [
        "import torch\n",
        "import torch.nn as nn"
      ],
      "metadata": {
        "id": "vXOiBLA54LTK"
      },
      "execution_count": 6,
      "outputs": []
    },
    {
      "cell_type": "code",
      "source": [
        "prediction = torch.randn(4, 5) # Subjective to"
      ],
      "metadata": {
        "colab": {
          "base_uri": "https://localhost:8080/"
        },
        "id": "UJ6upPJZ5K_Z",
        "outputId": "9036c766-3618-4d87-c606-d7e06275d725"
      },
      "execution_count": 12,
      "outputs": [
        {
          "output_type": "execute_result",
          "data": {
            "text/plain": [
              "tensor([[-0.7151, -0.5270, -1.1826,  2.3416, -0.2517],\n",
              "        [ 0.3528, -0.5343,  1.2426, -1.5218, -0.6690],\n",
              "        [-0.0890, -0.1483,  2.0760,  0.8813,  0.0722],\n",
              "        [-0.7792, -0.8716, -0.1874,  0.9095, -1.1980]])"
            ]
          },
          "metadata": {},
          "execution_count": 12
        }
      ]
    },
    {
      "cell_type": "code",
      "source": [
        "label = torch.randn(4, 5)"
      ],
      "metadata": {
        "id": "tSgTKzOx5TMS"
      },
      "execution_count": 4,
      "outputs": []
    },
    {
      "cell_type": "code",
      "source": [
        "mse = nn.MSELoss(reduction='mean')"
      ],
      "metadata": {
        "id": "_CzcxD0elBvs"
      },
      "execution_count": 27,
      "outputs": []
    },
    {
      "cell_type": "code",
      "source": [
        "loss = mse(prediction, label)"
      ],
      "metadata": {
        "id": "FsffBtYNlGSu"
      },
      "execution_count": 28,
      "outputs": []
    },
    {
      "cell_type": "code",
      "source": [
        "loss"
      ],
      "metadata": {
        "colab": {
          "base_uri": "https://localhost:8080/"
        },
        "id": "rn90P6cQlOmS",
        "outputId": "094d3497-3bf2-4b37-ae9c-53b5f1b19032"
      },
      "execution_count": 29,
      "outputs": [
        {
          "output_type": "execute_result",
          "data": {
            "text/plain": [
              "tensor(3.4064)"
            ]
          },
          "metadata": {},
          "execution_count": 29
        }
      ]
    },
    {
      "cell_type": "code",
      "source": [
        "(prediction - label).pow(2).mean()"
      ],
      "metadata": {
        "colab": {
          "base_uri": "https://localhost:8080/"
        },
        "id": "Vv95fs7RlYUB",
        "outputId": "eb4e5a0b-5283-417a-ae3d-6dad389cf87d"
      },
      "execution_count": 30,
      "outputs": [
        {
          "output_type": "execute_result",
          "data": {
            "text/plain": [
              "tensor(3.4064)"
            ]
          },
          "metadata": {},
          "execution_count": 30
        }
      ]
    },
    {
      "cell_type": "code",
      "source": [
        "prediction"
      ],
      "metadata": {
        "colab": {
          "base_uri": "https://localhost:8080/"
        },
        "id": "8B9OqX8Al8q7",
        "outputId": "7271d6c3-775c-4809-f29c-cf1ec3e2848d"
      },
      "execution_count": 31,
      "outputs": [
        {
          "output_type": "execute_result",
          "data": {
            "text/plain": [
              "tensor([[-0.7151, -0.5270, -1.1826,  2.3416, -0.2517],\n",
              "        [ 0.3528, -0.5343,  1.2426, -1.5218, -0.6690],\n",
              "        [-0.0890, -0.1483,  2.0760,  0.8813,  0.0722],\n",
              "        [-0.7792, -0.8716, -0.1874,  0.9095, -1.1980]])"
            ]
          },
          "metadata": {},
          "execution_count": 31
        }
      ]
    },
    {
      "cell_type": "code",
      "source": [
        "label = torch.zeros(4, 5).random_(0, 2)\n",
        "label"
      ],
      "metadata": {
        "colab": {
          "base_uri": "https://localhost:8080/"
        },
        "id": "uv43LBulmSKj",
        "outputId": "1246b634-27c8-4952-d600-6016b89de007"
      },
      "execution_count": 38,
      "outputs": [
        {
          "output_type": "execute_result",
          "data": {
            "text/plain": [
              "tensor([[1., 1., 0., 1., 0.],\n",
              "        [0., 1., 0., 1., 0.],\n",
              "        [1., 0., 0., 1., 1.],\n",
              "        [1., 0., 1., 1., 0.]])"
            ]
          },
          "metadata": {},
          "execution_count": 38
        }
      ]
    },
    {
      "cell_type": "code",
      "source": [
        "sigmoid = nn.Sigmoid()"
      ],
      "metadata": {
        "id": "G9JwST2TmWZq"
      },
      "execution_count": 39,
      "outputs": []
    },
    {
      "cell_type": "code",
      "source": [
        "bce = nn.BCELoss(reduction='mean')"
      ],
      "metadata": {
        "id": "2Dc5W5t2m-PJ"
      },
      "execution_count": 41,
      "outputs": []
    },
    {
      "cell_type": "code",
      "source": [
        "bce(sigmoid(prediction), label)"
      ],
      "metadata": {
        "colab": {
          "base_uri": "https://localhost:8080/"
        },
        "id": "ShfaNDUJnGHV",
        "outputId": "0172a61c-d260-4b95-838b-f916f24782c1"
      },
      "execution_count": 42,
      "outputs": [
        {
          "output_type": "execute_result",
          "data": {
            "text/plain": [
              "tensor(0.8003)"
            ]
          },
          "metadata": {},
          "execution_count": 42
        }
      ]
    },
    {
      "cell_type": "code",
      "source": [
        "# with logits loss:\n",
        "bces = bce = nn.BCEWithLogitsLoss(reduction='mean')"
      ],
      "metadata": {
        "id": "Qf_30InQnP76"
      },
      "execution_count": 46,
      "outputs": []
    },
    {
      "cell_type": "code",
      "source": [
        "bce(prediction, label)"
      ],
      "metadata": {
        "colab": {
          "base_uri": "https://localhost:8080/"
        },
        "id": "fOU4D2ovnX_d",
        "outputId": "ec0e78ad-bd30-46f3-eebc-d0765f09cede"
      },
      "execution_count": 48,
      "outputs": [
        {
          "output_type": "execute_result",
          "data": {
            "text/plain": [
              "tensor(0.8003)"
            ]
          },
          "metadata": {},
          "execution_count": 48
        }
      ]
    },
    {
      "cell_type": "code",
      "source": [
        "import numpy as np\n",
        "\n",
        "x = prediction.numpy()\n",
        "y = label.numpy()"
      ],
      "metadata": {
        "id": "z2b0T62GnaZf"
      },
      "execution_count": 49,
      "outputs": []
    },
    {
      "cell_type": "code",
      "source": [
        "def sigmoid(x):\n",
        "  return 1 / (1 + np.exp(-x))"
      ],
      "metadata": {
        "id": "E_N5K6YiqKGj"
      },
      "execution_count": 52,
      "outputs": []
    },
    {
      "cell_type": "code",
      "source": [
        "x = sigmoid(x)\n",
        "\n",
        "loss_values = []\n",
        "for i in range(len(y)):\n",
        "  batch_loss = []\n",
        "  for j in range(len(y[0])):\n",
        "      # Using numpy functions directly for binary cross-entropy calculation\n",
        "      batch_loss.append(-(x[i][j] if y[i][j] == 1 else -np.log(1 - x[i][j])))\n",
        "  loss_values.append(batch_loss)\n",
        "\n",
        "print(np.mean(loss_values))"
      ],
      "metadata": {
        "colab": {
          "base_uri": "https://localhost:8080/"
        },
        "id": "7o27TiMcnzi0",
        "outputId": "f9b25d07-ba7f-4cf0-b119-823ba31d3259"
      },
      "execution_count": 54,
      "outputs": [
        {
          "output_type": "stream",
          "name": "stdout",
          "text": [
            "-0.6205319313659122\n"
          ]
        }
      ]
    },
    {
      "cell_type": "code",
      "source": [],
      "metadata": {
        "id": "zImbMN2Wp7xE"
      },
      "execution_count": null,
      "outputs": []
    }
  ]
}